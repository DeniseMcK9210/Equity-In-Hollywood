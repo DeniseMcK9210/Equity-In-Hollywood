{
 "cells": [
  {
   "cell_type": "code",
   "execution_count": 1,
   "metadata": {},
   "outputs": [],
   "source": [
    "# import dependencies\n",
    "import sqlite3\n",
    "from sqlite3 import Error"
   ]
  },
  {
   "cell_type": "code",
   "execution_count": 3,
   "metadata": {},
   "outputs": [
    {
     "name": "stdout",
     "output_type": "stream",
     "text": [
      "2.6.0\n"
     ]
    }
   ],
   "source": [
    "def create_connection(db_file):\n",
    "    # create a database connection to SQLite database\n",
    "    conn = None\n",
    "    try:\n",
    "        conn = sqlite3.connect(db_file)\n",
    "        print(sqlite3.version)\n",
    "    except Error as e:\n",
    "        print(e)\n",
    "    #finally:\n",
    "     #   if conn:\n",
    "      #      conn.close()\n",
    "            \n",
    "if __name__ == '__main__':\n",
    "    create_connection(r'../App/bechdel.db')"
   ]
  },
  {
   "cell_type": "code",
   "execution_count": 5,
   "metadata": {},
   "outputs": [],
   "source": [
    "# function to create table \n",
    "def create_table(conn, create_table_sql):\n",
    "    # create table from create_table_sql\n",
    "    #:param conn: Connection object\n",
    "    #:param create_table_sql: a CREATE TABLE statement\n",
    "    #:return:\n",
    "        \n",
    "    try:\n",
    "        c = conn.cursor()\n",
    "        c.execute(create_table_sql)\n",
    "        \n",
    "    except Error as e:\n",
    "        print(e)"
   ]
  },
  {
   "cell_type": "code",
   "execution_count": null,
   "metadata": {},
   "outputs": [],
   "source": [
    "def main():\n",
    "    database = r'../App/bechdel.db'\n",
    "    \n",
    "    create_bechdel_table = CREATE TABLE IF NOT EXISTS bechdel (\n",
    "                        imdbid integer NOT NULL,\n",
    "                        bechdel_rating integer NOT NULL,\n",
    "                        title text NOT NULL,\n",
    "                        year integer NOT NULL,\n",
    "                        binary integer NOT NULL,\n",
    "                        budget_2013 integer NOT NULL,\n",
    "                        domgross_2013 integer NOT NULL,\n",
    "                        intgross_2013 integer NOT NULL,\n",
    "                        genres text NOT NULL,\n",
    "                        A text NOT NULL,\n",
    "                        B text NOT NULL,\n",
    "                        C text NOT NULL,\n",
    "                        averageRating real NOT NULL,\n",
    "                        numVotes integer NOT NULL);\n",
    "    \n",
    "    # create a database connection\n",
    "    conn = create_connection(database)\n",
    "    \n",
    "    # create tables\n",
    "    if conn is not None: \n",
    "        create_table(conn, create_bechdel_table)\n",
    "        \n",
    "    else:\n",
    "        print(\"Error! Cannot connect!\")\n",
    "\n",
    "if __name__ == '__main__':\n",
    "    main()"
   ]
  },
  {
   "cell_type": "markdown",
   "metadata": {},
   "source": [
    "### Denise is trying something below"
   ]
  },
  {
   "cell_type": "code",
   "execution_count": 1,
   "metadata": {},
   "outputs": [],
   "source": [
    "#Import dependencies\n",
    "import pandas as pd\n",
    "import csv, sqlite3\n",
    "from sqlite3 import Error\n"
   ]
  },
  {
   "cell_type": "code",
   "execution_count": 2,
   "metadata": {},
   "outputs": [],
   "source": [
    "#Function to connect to database\n",
    "def create_connection(db_file):\n",
    "    \"\"\" create a database connection to the SQLite database\n",
    "        specified by db_file\n",
    "    :param db_file: database file\n",
    "    :return: Connection object or None\n",
    "    \"\"\"\n",
    "    conn = None\n",
    "    try:\n",
    "        conn = sqlite3.connect(db_file)\n",
    "        return conn\n",
    "    except Error as e:\n",
    "        print(e)"
   ]
  },
  {
   "cell_type": "code",
   "execution_count": 3,
   "metadata": {},
   "outputs": [],
   "source": [
    "#Function to create table and insert csv data\n",
    "def create_table(conn, create_table_sql, csvfile):\n",
    "    \"\"\" create a table from the create_table_sql statement then import csv\n",
    "    :param conn: Connection object\n",
    "    :param create_table_sql: a CREATE TABLE statement\n",
    "    :return:\n",
    "    \"\"\"\n",
    "    try:\n",
    "        c = conn.cursor()\n",
    "        c.execute(create_table_sql)\n",
    "        c.execute('DELETE FROM bechdel')\n",
    "        df = pd.read_csv(csvfile)\n",
    "        df.to_sql('bechdel', conn, if_exists='append', index=False)\n",
    "     \n",
    "        \n",
    "    except Error as e:\n",
    "        print(e)"
   ]
  },
  {
   "cell_type": "code",
   "execution_count": null,
   "metadata": {},
   "outputs": [],
   "source": [
    "#Query the table\n",
    "def select_all(conn):\n",
    "    \"\"\"\n",
    "    Query all rows in the tasks table\n",
    "    :param conn: the Connection object\n",
    "    :return:\n",
    "    \"\"\"\n",
    "    cur = conn.cursor()\n",
    "    cur.execute(\"SELECT * FROM bechdel\")\n",
    " \n",
    "    rows = cur.fetchall()\n",
    " \n",
    "    for row in rows:\n",
    "        print(row)\n",
    "\n",
    "    cur.execute(\"SELECT COUNT(title) FROM bechdel;\")\n",
    "    count = cur.fetchall()\n",
    "    print(count)\n",
    "\n",
    "    #close connection\n",
    "    conn.close()"
   ]
  },
  {
   "cell_type": "code",
   "execution_count": 5,
   "metadata": {},
   "outputs": [],
   "source": [
    "#Connect to db, create table, import csv data\n",
    "def main():\n",
    "    database = r'../App/bechdel.db'\n",
    " \n",
    "    create_bechdel_table = \"\"\"CREATE TABLE IF NOT EXISTS \"bechdel\" (\n",
    "                        \"imdbid\" integer NOT NULL,\n",
    "                        \"bechdel_rating\" integer NOT NULL,\n",
    "                        \"title\" text NOT NULL,\n",
    "                        \"year\" integer NOT NULL,\n",
    "                        \"binary\" integer NOT NULL,\n",
    "                        \"budget_2013\" integer NOT NULL,\n",
    "                        \"domgross_2013\" integer NOT NULL,\n",
    "                        \"intgross_2013\" integer NOT NULL,\n",
    "                        \"genres\" text NOT NULL,\n",
    "                        \"A\" text NOT NULL,\n",
    "                        \"B\" text NOT NULL,\n",
    "                        \"C\" text NOT NULL,\n",
    "                        \"averageRating\" real NOT NULL,\n",
    "                        \"numVotes\" integer NOT NULL);\"\"\"\n",
    "    \n",
    "    csv = \"../bechdel_final.csv\"\n",
    " \n",
    "    # create a database connection\n",
    "    conn = create_connection(database)\n",
    " \n",
    "    # create tables\n",
    "    if conn is not None:\n",
    "        # create projects table and insert csv\n",
    "        create_table(conn, create_bechdel_table, csv)\n",
    "        select_all(conn)\n",
    "    else:\n",
    "        print(\"Error! cannot create the database connection.\")\n",
    " \n",
    " \n",
    "if __name__ == '__main__':\n",
    "    main()"
   ]
  },
  {
   "cell_type": "code",
   "execution_count": null,
   "metadata": {},
   "outputs": [],
   "source": []
  }
 ],
 "metadata": {
  "kernelspec": {
   "display_name": "Python 3",
   "language": "python",
   "name": "python3"
  },
  "language_info": {
   "codemirror_mode": {
    "name": "ipython",
    "version": 3
   },
   "file_extension": ".py",
   "mimetype": "text/x-python",
   "name": "python",
   "nbconvert_exporter": "python",
   "pygments_lexer": "ipython3",
   "version": "3.7.3"
  }
 },
 "nbformat": 4,
 "nbformat_minor": 2
}
