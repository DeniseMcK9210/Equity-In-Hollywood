{
 "cells": [
  {
   "cell_type": "markdown",
   "metadata": {},
   "source": [
    "# OMDb API is a RESTful web service to obtain movie information. All content and images on the site are contributed and maintained by our users. "
   ]
  },
  {
   "cell_type": "markdown",
   "metadata": {},
   "source": [
    "# Use OMDB API to get data for movie plots and use the results to tokenize and transform the data to determine\n",
    "# whether it passes the Bechdel test."
   ]
  },
  {
   "cell_type": "code",
   "execution_count": 22,
   "metadata": {},
   "outputs": [],
   "source": [
    "# Dependencies\n",
    "import requests\n",
    "\n",
    "url = \"http://www.omdbapi.com/?apikey=99140f69&animation&t=\""
   ]
  },
  {
   "cell_type": "code",
   "execution_count": 23,
   "metadata": {},
   "outputs": [
    {
     "name": "stdout",
     "output_type": "stream",
     "text": [
      "{'Title': 'Moana', 'Year': '2016', 'Rated': 'PG', 'Released': '23 Nov 2016', 'Runtime': '107 min', 'Genre': 'Animation, Adventure, Comedy, Family, Fantasy, Musical', 'Director': 'Ron Clements, John Musker, Don Hall(co-director), Chris Williams(co-director)', 'Writer': 'Jared Bush (screenplay by), Ron Clements (story by), John Musker (story by), Chris Williams (story by), Don Hall (story by), Pamela Ribon (story by), Aaron Kandell (story by), Jordan Kandell (story by)', 'Actors': \"Auli'i Cravalho, Dwayne Johnson, Rachel House, Temuera Morrison\", 'Plot': \"In Ancient Polynesia, when a terrible curse incurred by the Demigod Maui reaches Moana's island, she answers the Ocean's call to seek out the Demigod to set things right.\", 'Language': 'English', 'Country': 'USA', 'Awards': 'Nominated for 2 Oscars. Another 18 wins & 83 nominations.', 'Poster': 'https://m.media-amazon.com/images/M/MV5BMjI4MzU5NTExNF5BMl5BanBnXkFtZTgwNzY1MTEwMDI@._V1_SX300.jpg', 'Ratings': [{'Source': 'Internet Movie Database', 'Value': '7.6/10'}, {'Source': 'Rotten Tomatoes', 'Value': '96%'}, {'Source': 'Metacritic', 'Value': '81/100'}], 'Metascore': '81', 'imdbRating': '7.6', 'imdbVotes': '231,108', 'imdbID': 'tt3521164', 'Type': 'movie', 'DVD': '07 Mar 2017', 'BoxOffice': '$248,752,120', 'Production': 'Walt Disney Pictures', 'Website': 'http://movies.disney.com/moana', 'Response': 'True'}\n"
     ]
    }
   ],
   "source": [
    "# What are the plots of some movies?\n",
    "movie = requests.get(url + \"Moana\").json()\n",
    "print(movie)"
   ]
  },
  {
   "cell_type": "code",
   "execution_count": 27,
   "metadata": {
    "scrolled": true
   },
   "outputs": [
    {
     "name": "stdout",
     "output_type": "stream",
     "text": [
      "Requirement already satisfied: nltk in c:\\users\\cnaywill\\anaconda3\\lib\\site-packages (3.4.1)\n",
      "Requirement already satisfied: six in c:\\users\\cnaywill\\anaconda3\\lib\\site-packages (from nltk) (1.12.0)\n"
     ]
    }
   ],
   "source": [
    "# install the natural language toolkit\n",
    "! pip install nltk"
   ]
  },
  {
   "cell_type": "code",
   "execution_count": 35,
   "metadata": {},
   "outputs": [
    {
     "name": "stderr",
     "output_type": "stream",
     "text": [
      "[nltk_data] Downloading package punkt to\n",
      "[nltk_data]     C:\\Users\\cnaywill\\AppData\\Roaming\\nltk_data...\n",
      "[nltk_data]   Unzipping tokenizers\\punkt.zip.\n"
     ]
    },
    {
     "data": {
      "text/plain": [
       "True"
      ]
     },
     "execution_count": 35,
     "metadata": {},
     "output_type": "execute_result"
    }
   ],
   "source": [
    "# Dependency\n",
    "import nltk\n",
    "nltk.download('punkt')"
   ]
  },
  {
   "cell_type": "code",
   "execution_count": 36,
   "metadata": {},
   "outputs": [
    {
     "data": {
      "text/plain": [
       "['In',\n",
       " 'Ancient',\n",
       " 'Polynesia',\n",
       " ',',\n",
       " 'when',\n",
       " 'a',\n",
       " 'terrible',\n",
       " 'curse',\n",
       " 'incurred',\n",
       " 'by',\n",
       " 'the',\n",
       " 'Demigod',\n",
       " 'Maui',\n",
       " 'reaches',\n",
       " 'Moana',\n",
       " \"'s\",\n",
       " 'island',\n",
       " ',',\n",
       " 'she',\n",
       " 'answers',\n",
       " 'the',\n",
       " 'Ocean',\n",
       " \"'s\",\n",
       " 'call',\n",
       " 'to',\n",
       " 'seek',\n",
       " 'out',\n",
       " 'the',\n",
       " 'Demigod',\n",
       " 'to',\n",
       " 'set',\n",
       " 'things',\n",
       " 'right',\n",
       " '.']"
      ]
     },
     "execution_count": 36,
     "metadata": {},
     "output_type": "execute_result"
    }
   ],
   "source": [
    "# Insert plot and tokenize\n",
    "sentence = \"\"\"In Ancient Polynesia, when a terrible curse incurred by the Demigod Maui reaches Moana's island, she answers the Ocean's call to seek out the Demigod to set things right.\"\"\"\n",
    "tokens = nltk.word_tokenize(sentence)\n",
    "tokens"
   ]
  },
  {
   "cell_type": "code",
   "execution_count": null,
   "metadata": {},
   "outputs": [],
   "source": []
  }
 ],
 "metadata": {
  "kernelspec": {
   "display_name": "Python 36 (PythonData)",
   "language": "python",
   "name": "pythondata"
  },
  "language_info": {
   "codemirror_mode": {
    "name": "ipython",
    "version": 3
   },
   "file_extension": ".py",
   "mimetype": "text/x-python",
   "name": "python",
   "nbconvert_exporter": "python",
   "pygments_lexer": "ipython3",
   "version": "3.7.3"
  }
 },
 "nbformat": 4,
 "nbformat_minor": 2
}
