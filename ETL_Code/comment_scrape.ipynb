{
 "cells": [
  {
   "cell_type": "code",
   "execution_count": 33,
   "metadata": {},
   "outputs": [],
   "source": [
    "# Scrape comments from movies passing the Bechdel test.\n",
    "import requests\n",
    "import urllib.request\n",
    "import time\n",
    "from bs4 import BeautifulSoup"
   ]
  },
  {
   "cell_type": "code",
   "execution_count": 28,
   "metadata": {},
   "outputs": [],
   "source": [
    "# parameters = {\n",
    "    #'comments1': '8750',\n",
    "    #'comments2': '8642',\n",
    "    #'comments3': '8760'\n",
    "#}\n",
    "\n",
    "# payload = {'key1': 'value1', 'key2': 'value2'}\n",
    "# r = requests.get('https://httpbin.org/get', params=payload)"
   ]
  },
  {
   "cell_type": "code",
   "execution_count": 35,
   "metadata": {},
   "outputs": [],
   "source": [
    "url = 'https://bechdeltest.com/comments/8642'\n",
    "response = requests.get(url)"
   ]
  },
  {
   "cell_type": "code",
   "execution_count": 36,
   "metadata": {},
   "outputs": [
    {
     "name": "stdout",
     "output_type": "stream",
     "text": [
      "200\n"
     ]
    }
   ],
   "source": [
    "print(response.status_code)"
   ]
  },
  {
   "cell_type": "code",
   "execution_count": 37,
   "metadata": {},
   "outputs": [],
   "source": [
    "soup = BeautifulSoup(response.text, \"html.parser\")"
   ]
  },
  {
   "cell_type": "code",
   "execution_count": 38,
   "metadata": {},
   "outputs": [
    {
     "data": {
      "text/plain": [
       "[<div class=\"comment\">\n",
       " <a id=\"comment-1\"></a><div class=\"name\"><b>Lepio</b> said:</div>\n",
       " <div class=\"text\"> The movie passes based on Avery brief scene showing the first meeting between Alita and Dr Chiren. Chiren comments on her arm and Alita rebuffs here. It’s basically limited to two lines of dialogue but it does pass. </div>\n",
       " <div class=\"date\">Message posted on 2019-02-14 19:31:07</div>\n",
       " </div>,\n",
       " <div class=\"name\"><b>Lepio</b> said:</div>,\n",
       " <div class=\"text\"> The movie passes based on Avery brief scene showing the first meeting between Alita and Dr Chiren. Chiren comments on her arm and Alita rebuffs here. It’s basically limited to two lines of dialogue but it does pass. </div>,\n",
       " <div class=\"date\">Message posted on 2019-02-14 19:31:07</div>,\n",
       " <div class=\"comment\">\n",
       " <a id=\"comment-2\"></a><div class=\"name\"><b>Colin Chapman</b> disagreed with the rating and said:</div>\n",
       " <div class=\"text\"> These comments were still in the context of a discussion about the male father. Does this count? </div>\n",
       " <div class=\"date\">Message posted on 2019-03-12 18:45:41</div>\n",
       " </div>,\n",
       " <div class=\"name\"><b>Colin Chapman</b> disagreed with the rating and said:</div>,\n",
       " <div class=\"text\"> These comments were still in the context of a discussion about the male father. Does this count? </div>,\n",
       " <div class=\"date\">Message posted on 2019-03-12 18:45:41</div>,\n",
       " <div class=\"comment\">\n",
       " <a id=\"comment-3\"></a><div class=\"name\"><b>MJ</b> said:</div>\n",
       " <div class=\"text\"> I definitely do agree with the rating according to the test, however, if you have read the original manga on which this movie is based on, Alita (also known as Gally in the manga) does not focus as much on Hugo (the love interest). The movie overly focused on this male character when he did not provide much development for Alita's motive to head to Salem and figure out who she really is, and I found it to be a poor tool that fell under the stereotype that a love interest is needed for a female need. What do you all think? </div>\n",
       " <div class=\"date\">Message posted on 2019-03-23 00:48:39</div>\n",
       " </div>,\n",
       " <div class=\"name\"><b>MJ</b> said:</div>,\n",
       " <div class=\"text\"> I definitely do agree with the rating according to the test, however, if you have read the original manga on which this movie is based on, Alita (also known as Gally in the manga) does not focus as much on Hugo (the love interest). The movie overly focused on this male character when he did not provide much development for Alita's motive to head to Salem and figure out who she really is, and I found it to be a poor tool that fell under the stereotype that a love interest is needed for a female need. What do you all think? </div>,\n",
       " <div class=\"date\">Message posted on 2019-03-23 00:48:39</div>,\n",
       " <div class=\"comment\">\n",
       " <a id=\"comment-4\"></a><div class=\"name\"><b>Evin</b> said:</div>\n",
       " <div class=\"text\"> In the very beginning when alita wakes up the nurse (I forget her name but she is named) says \"hello sleepyhead\" and alita responds \"hi\"\n",
       " <br/>\n",
       " And then when Dr. Chiren stopping her too.\n",
       " <br/>\n",
       " <br/>\n",
       " It does pass but it's very minimal </div>\n",
       " <div class=\"date\">Message posted on 2019-03-23 05:13:07</div>\n",
       " </div>,\n",
       " <div class=\"name\"><b>Evin</b> said:</div>,\n",
       " <div class=\"text\"> In the very beginning when alita wakes up the nurse (I forget her name but she is named) says \"hello sleepyhead\" and alita responds \"hi\"\n",
       " <br/>\n",
       " And then when Dr. Chiren stopping her too.\n",
       " <br/>\n",
       " <br/>\n",
       " It does pass but it's very minimal </div>,\n",
       " <div class=\"date\">Message posted on 2019-03-23 05:13:07</div>,\n",
       " <div class=\"comment\">\n",
       " <a id=\"comment-5\"></a><div class=\"name\"><b>Aduro</b> said:</div>\n",
       " <div class=\"text\"> @Colin Chapman\n",
       " <br/>\n",
       " The man is only indirectly related.\n",
       " <br/>\n",
       " <br/>\n",
       " The scene is significant because Chiren is irritated that her ex kept their daughter's prosthetic body and gave it to some girl. \n",
       " <br/>\n",
       " <br/>\n",
       " But technically Chiren only asked about the prosthetic body itself and Alita didn't mention Ido.\n",
       " <br/>\n",
       " <br/>\n",
       " If we remove any conversations that are related to things that are related to men. Then half the passing movies on the site would drop off the list. </div>\n",
       " <div class=\"date\">Message posted on 2019-03-27 01:37:40</div>\n",
       " </div>,\n",
       " <div class=\"name\"><b>Aduro</b> said:</div>,\n",
       " <div class=\"text\"> @Colin Chapman\n",
       " <br/>\n",
       " The man is only indirectly related.\n",
       " <br/>\n",
       " <br/>\n",
       " The scene is significant because Chiren is irritated that her ex kept their daughter's prosthetic body and gave it to some girl. \n",
       " <br/>\n",
       " <br/>\n",
       " But technically Chiren only asked about the prosthetic body itself and Alita didn't mention Ido.\n",
       " <br/>\n",
       " <br/>\n",
       " If we remove any conversations that are related to things that are related to men. Then half the passing movies on the site would drop off the list. </div>,\n",
       " <div class=\"date\">Message posted on 2019-03-27 01:37:40</div>,\n",
       " <div class=\"comment\">\n",
       " <a id=\"comment-6\"></a><div class=\"name\"><b>dan</b> said:</div>\n",
       " <div class=\"text\"> Chiren is interested in Alita because she knows its her daughters body. It does not involve or reference Ido. Alita has a training sequence with Gelda (her female mentor) that is about technique and tenacity. </div>\n",
       " <div class=\"date\">Message posted on 2019-03-30 14:38:05</div>\n",
       " </div>,\n",
       " <div class=\"name\"><b>dan</b> said:</div>,\n",
       " <div class=\"text\"> Chiren is interested in Alita because she knows its her daughters body. It does not involve or reference Ido. Alita has a training sequence with Gelda (her female mentor) that is about technique and tenacity. </div>,\n",
       " <div class=\"date\">Message posted on 2019-03-30 14:38:05</div>,\n",
       " <div class=\"comment\">\n",
       " <a id=\"comment-7\"></a><div class=\"name\"><b>Mercedes</b> said:</div>\n",
       " <div class=\"text\"> No the conversation is in context of Chiren's daughter, not the father figure, the same characters have another conversation later in the movie, but that is in the context of saving a male character.\n",
       " <br/>\n",
       " In general conversations in this movie are rather brief, \n",
       " <br/>\n",
       " so the first conversation between Chiren and Alita is about the average length of a\n",
       " <br/>\n",
       "  conversation in the movie. \n",
       " <br/>\n",
       "  Other verbal exchanges between named female characters, like Nessaya's to Alita or Gelda to Alita are \n",
       " <br/>\n",
       " responded to non verbally. </div>\n",
       " <div class=\"date\">Message posted on 2019-04-23 13:09:10</div>\n",
       " </div>,\n",
       " <div class=\"name\"><b>Mercedes</b> said:</div>,\n",
       " <div class=\"text\"> No the conversation is in context of Chiren's daughter, not the father figure, the same characters have another conversation later in the movie, but that is in the context of saving a male character.\n",
       " <br/>\n",
       " In general conversations in this movie are rather brief, \n",
       " <br/>\n",
       " so the first conversation between Chiren and Alita is about the average length of a\n",
       " <br/>\n",
       "  conversation in the movie. \n",
       " <br/>\n",
       "  Other verbal exchanges between named female characters, like Nessaya's to Alita or Gelda to Alita are \n",
       " <br/>\n",
       " responded to non verbally. </div>,\n",
       " <div class=\"date\">Message posted on 2019-04-23 13:09:10</div>,\n",
       " <div id=\"addcomment\" style=\"display: none;\">\n",
       " <form action=\"/add/save_comment/\" method=\"post\">\n",
       " <fieldset>\n",
       " <legend>Your comment</legend>\n",
       " <p><label for=\"yourname\">Name</label>\n",
       " <input class=\"\" id=\"yourname\" name=\"name\" type=\"text\"/></p>\n",
       " <p><label for=\"youremail\">Email</label>\n",
       " <input class=\"\" id=\"youremail\" name=\"email\" type=\"text\"/> (won't be posted)</p>\n",
       " </fieldset>\n",
       " <fieldset>\n",
       " <legend>Prove you're human</legend>\n",
       " <p><label for=\"captcha\">Type <b>monkey</b> in the following field</label>\n",
       " <input class=\"\" id=\"captcha\" name=\"captcha\" type=\"text\"/></p>\n",
       " </fieldset>\n",
       " <fieldset>\n",
       " <legend>Your comment</legend>\n",
       " <p><input id=\"disagree\" name=\"disagree\" type=\"checkbox\"/><label for=\"disagree\">I disagree with the rating</label> <small>(Only if you think the actual rating is wrong, not if you disagree with the test, the applicability in this case or a comment.)</small></p>\n",
       " <textarea class=\"\" cols=\"40\" name=\"comment\" rows=\"6\"></textarea>\n",
       " </fieldset>\n",
       " <div class=\"submit\">\n",
       " <input name=\"movieid\" type=\"hidden\" value=\"8642\"/> <input name=\"inpopup\" type=\"hidden\" value=\"true\"/> <input type=\"submit\" value=\"Submit\"/>\n",
       " </div>\n",
       " </form>\n",
       " </div>,\n",
       " <div class=\"submit\">\n",
       " <input name=\"movieid\" type=\"hidden\" value=\"8642\"/> <input name=\"inpopup\" type=\"hidden\" value=\"true\"/> <input type=\"submit\" value=\"Submit\"/>\n",
       " </div>]"
      ]
     },
     "execution_count": 38,
     "metadata": {},
     "output_type": "execute_result"
    }
   ],
   "source": [
    "soup.findAll('div')"
   ]
  },
  {
   "cell_type": "code",
   "execution_count": null,
   "metadata": {},
   "outputs": [],
   "source": []
  }
 ],
 "metadata": {
  "kernelspec": {
   "display_name": "Python 36 (PythonData)",
   "language": "python",
   "name": "pythondata"
  },
  "language_info": {
   "codemirror_mode": {
    "name": "ipython",
    "version": 3
   },
   "file_extension": ".py",
   "mimetype": "text/x-python",
   "name": "python",
   "nbconvert_exporter": "python",
   "pygments_lexer": "ipython3",
   "version": "3.7.3"
  }
 },
 "nbformat": 4,
 "nbformat_minor": 2
}
